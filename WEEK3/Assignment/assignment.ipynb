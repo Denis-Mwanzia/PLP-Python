{
 "cells": [
  {
   "cell_type": "code",
   "execution_count": 2,
   "metadata": {},
   "outputs": [
    {
     "name": "stdout",
     "output_type": "stream",
     "text": [
      "Final Price = Ksh. 960.0.\n"
     ]
    }
   ],
   "source": [
    "def calculate_discount(price, discount_percent):\n",
    "    if discount_percent >=20:\n",
    "        return (100-discount_percent)/100*price\n",
    "    else:\n",
    "        return price\n",
    "    \n",
    "# Getting User Input\n",
    "price = float(input(\"Enter the price of the item: \"))\n",
    "discount_percent = float(input(\"Enter the discount percentage (0-100): \"))\n",
    "\n",
    "# Calculating Final Price\n",
    "final_price = calculate_discount(price, discount_percent)\n",
    "print(f\"Final Price = Ksh. {final_price}.\")"
   ]
  }
 ],
 "metadata": {
  "kernelspec": {
   "display_name": "base",
   "language": "python",
   "name": "python3"
  },
  "language_info": {
   "codemirror_mode": {
    "name": "ipython",
    "version": 3
   },
   "file_extension": ".py",
   "mimetype": "text/x-python",
   "name": "python",
   "nbconvert_exporter": "python",
   "pygments_lexer": "ipython3",
   "version": "3.12.7"
  }
 },
 "nbformat": 4,
 "nbformat_minor": 2
}
