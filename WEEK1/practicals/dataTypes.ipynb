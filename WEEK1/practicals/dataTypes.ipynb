{
 "cells": [
  {
   "cell_type": "markdown",
   "metadata": {},
   "source": [
    "# Data Type and Variables\n",
    "## Variable\n",
    " - Can be defined as container/placeholder/memory location used to store data values.\n",
    " - Variable name should be descriptive.\n",
    " - Variable names should start with a letter or underscore (_).\n",
    " - Variable names should not contain any special characters or spaces.\n",
    " - Variable names should not be a keyword.\n",
    " - Variable names should not start with a number.\n",
    " - Variable names should not contain any built-in Python functions or keywords.\n",
    " - Use camel-case if possible while naming a variable.\n",
    "\n",
    " ## Data Types\n",
    "  ### 1. Numeric Types: int, float, complex\n",
    "    - int: Holds integer values.\n",
    "    - float: Holds floating-point numbers.\n",
    "    - complex: Holds complex numbers.\n",
    "\n",
    "  ### 2. Sequence Types: str, list, tuple, range\n",
    "    - str: Holds sequence of characters.\n",
    "    - list: Holds ordered collection of items.\n",
    "    - tuple: Holds ordered collection of items but unchangeable.\n",
    "    - range: Holds sequence of numbers.\n",
    "    \n",
    "  ### 3. Mapping Types: dict\n",
    "    - dict: Holds unordered collection of key-value pairs.\n",
    "\n",
    "  ### 4. Set Types: set, frozenset\n",
    "    - set: Holds unordered collection of unique elements.\n",
    "    - frozenset: Holds unordered collection of unique elements but immutable.\n",
    "\n",
    "  ### 5. Boolean Type: bool\n",
    "    - bool: Holds either True or False values.\n",
    "\n",
    "# Examples\n"
   ]
  },
  {
   "cell_type": "code",
   "execution_count": 22,
   "metadata": {},
   "outputs": [
    {
     "name": "stdout",
     "output_type": "stream",
     "text": [
      " 2 - <class 'int'>\n",
      " 5.76 - <class 'float'>\n",
      " (1+2j) - <class 'complex'>\n",
      " Hello, World! - <class 'str'>\n",
      " [1, 2, 3, 4, 5] - <class 'list'>\n",
      " (1, 2, 3, 4, 5) - <class 'tuple'>\n",
      " range(1, 10) - <class 'range'>\n",
      " {'name': 'John', 'age': 30, 'city': 'New York'} - <class 'dict'>\n",
      " True - <class 'bool'>\n",
      " False - <class 'bool'>\n"
     ]
    }
   ],
   "source": [
    "# Numeric types\n",
    "a = 2\n",
    "b = 5.76\n",
    "c =  1 + 2j\n",
    "print(f\" {a} - {type(a)}\")\n",
    "print(f\" {b} - {type(b)}\")\n",
    "print(f\" {c} - {type(c)}\")\n",
    "\n",
    "# Sequence types\n",
    "s = \"Hello, World!\"\n",
    "l = [1, 2, 3, 4, 5]\n",
    "t = (1, 2, 3, 4, 5)\n",
    "r = range(1, 10)\n",
    "print(f\" {s} - {type(s)}\")\n",
    "print(f\" {l} - {type(l)}\")\n",
    "print(f\" {t} - {type(t)}\")\n",
    "print(f\" {r} - {type(r)}\")\n",
    "\n",
    "# mapping types\n",
    "d = {\"name\": \"John\", \"age\": 30, \"city\": \"New York\"}\n",
    "print(f\" {d} - {type(d)}\")\n",
    "\n",
    "# Boolean types\n",
    "bool1 = True\n",
    "print(f\" {bool1} - {type(bool1)}\")\n",
    "bool2 = False\n",
    "print(f\" {bool2} - {type(bool2)}\")\n",
    "# bool4 = 0 == False\n",
    "# print(f\" 0 == {bool4} - {type(bool4)}\")\n",
    "# bool5 = 1 == True\n",
    "# print(f\" 1 == {bool5} - {type(bool5)}\")\n"
   ]
  }
 ],
 "metadata": {
  "kernelspec": {
   "display_name": "base",
   "language": "python",
   "name": "python3"
  },
  "language_info": {
   "codemirror_mode": {
    "name": "ipython",
    "version": 3
   },
   "file_extension": ".py",
   "mimetype": "text/x-python",
   "name": "python",
   "nbconvert_exporter": "python",
   "pygments_lexer": "ipython3",
   "version": "3.12.7"
  }
 },
 "nbformat": 4,
 "nbformat_minor": 2
}
