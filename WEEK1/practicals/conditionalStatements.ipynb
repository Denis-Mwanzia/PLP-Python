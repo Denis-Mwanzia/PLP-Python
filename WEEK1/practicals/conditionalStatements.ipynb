{
 "cells": [
  {
   "cell_type": "markdown",
   "metadata": {},
   "source": [
    "# Conditional Statements\n",
    " - They help us execute a given block of code based on given conditions.\n",
    " - Most used conditional statements include:\n",
    "   - if\n",
    "   - elif...else\n",
    "   - else\n",
    " ## if statement\n",
    "   - It checks a single condition and executes the code block if the condition is true.\n",
    "   - Syntax: `if condition: code_block`\n",
    " \n",
    " ## if...elif...else statement\n",
    "   - checks multiple conditions and executes the code block for the first true condition.\n",
    "   - Syntax: `if condition1: code_block1 elif condition2: code_block2 else: code_block3`\n",
    " ## if...else statement\n",
    "   - executes the code block if none of the previous conditions are true.\n",
    "   - Syntax: `if condition: code_block else: code_block`\n",
    "\n",
    "# Example"
   ]
  },
  {
   "cell_type": "code",
   "execution_count": 6,
   "metadata": {},
   "outputs": [
    {
     "name": "stdout",
     "output_type": "stream",
     "text": [
      "5 is greater than 3\n",
      "5 is equal to 5\n",
      "5 is not equal to 3\n"
     ]
    }
   ],
   "source": [
    "# if condition\n",
    "a = 5\n",
    "b = 3\n",
    "if a > b:\n",
    "    print(f\"{a} is greater than {b}\")\n",
    "    \n",
    "# if...elif...else condition\n",
    "c = 5\n",
    "d = 5\n",
    "if c > d:\n",
    "    print(f\"{c} is greater than {d}\")\n",
    "elif a < b:\n",
    "    print(f\"{c} is less than {d}\")\n",
    "else:\n",
    "    print(f\"{c} is equal to {d}\")\n",
    "    \n",
    "# if...else\n",
    "if a == b:\n",
    "    print(f\"{a} is equal to {b}\")\n",
    "else:\n",
    "    print(f\"{a} is not equal to {b}\")"
   ]
  }
 ],
 "metadata": {
  "kernelspec": {
   "display_name": "base",
   "language": "python",
   "name": "python3"
  },
  "language_info": {
   "codemirror_mode": {
    "name": "ipython",
    "version": 3
   },
   "file_extension": ".py",
   "mimetype": "text/x-python",
   "name": "python",
   "nbconvert_exporter": "python",
   "pygments_lexer": "ipython3",
   "version": "3.12.7"
  }
 },
 "nbformat": 4,
 "nbformat_minor": 2
}
