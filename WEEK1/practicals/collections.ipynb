{
 "cells": [
  {
   "cell_type": "markdown",
   "metadata": {},
   "source": [
    "# Collections(List, Tuple, Dictionaries and Sets)\n",
    "## 1. List\n",
    "  - Lists are mutable, ordered collections of items.\n",
    "  - They can contain duplicates.\n",
    "  - Lists are created using square brackets [].\n",
    "  - Examples: `my_list = [1, 2, 3, 4, 5]`\n",
    "  - There are multiple operations which can be performed on lists. E.g list creation, list modification, list deletion, list slicing and list comparisons.\n",
    "### Examples:"
   ]
  },
  {
   "cell_type": "code",
   "execution_count": 1,
   "metadata": {},
   "outputs": [
    {
     "name": "stdout",
     "output_type": "stream",
     "text": [
      "myList = [1, 2, 3, 4, 5]\n",
      "First Element - 1\n",
      "Third Element - 3\n",
      "Last Element-  5\n",
      "Original list = [1, 2, 3, 4, 5]\n",
      "After adding 10 to index 1\n",
      "New list = [1, 10, 3, 4, 5]\n",
      "After appending 9\n",
      "Newest list = [1, 10, 3, 4, 5, 9]\n",
      "After removing 10\n",
      "Updated list = [1, 3, 4, 5, 9]\n",
      "[1, 3, 4, 5, 9]\n",
      "all items = [1, 3, 4, 5]\n",
      "first two items = [1, 3]\n",
      "second item to fourth item = [3, 4, 5]\n",
      "first,third and fifth item = [1, 4, 9]\n",
      "list length =5\n",
      "Final List = [1, 3, 4, 5, 9, 8, 9, 0, 4, 6]\n",
      "Square of [1, 3, 4, 5, 9, 8, 9, 0, 4, 6] = [0, 1, 2, 3, 4, 5, 6, 7, 8, 9]\n"
     ]
    }
   ],
   "source": [
    "# List creation\n",
    "myList = [1, 2, 3, 4, 5]\n",
    "print(f\"myList = {myList}\")\n",
    "\n",
    "\n",
    "# Accessing list elements - we use index notation to access the list elements\n",
    "firstElement = myList[0]\n",
    "lastElement = myList[-1]\n",
    "thirdElement = myList[2]\n",
    "print(f\"First Element - {firstElement}\\nThird Element - {thirdElement}\\nLast Element-  {lastElement}\")\n",
    "\n",
    "\n",
    "# List modification - we can change the value of a list element using index notation, append() and remove()\n",
    "# index notation - replace the available element in that index with new element\n",
    "print(f\"Original list = {myList}\")\n",
    "myList[1] = 10\n",
    "print(f\"After adding 10 to index 1\\nNew list = {myList}\")\n",
    "\n",
    "# append() method - adds elements to last index position of list\n",
    "myList.append(9)\n",
    "print(f\"After appending 9\\nNewest list = {myList}\")\n",
    "\n",
    "# remove() method - removes/deletes element from list\n",
    "myList.remove(10)\n",
    "print(f\"After removing 10\\nUpdated list = {myList}\")\n",
    "\n",
    "\n",
    "#List slicing\n",
    "  # Slicing is used to extract a portion of a list.\n",
    "  # Syntax: list[start:end:step]\n",
    "  # start: start index (inclusive)\n",
    "  # end: end index (exclusive)\n",
    "  # step: step size (default is 1)\n",
    "  # Negative indices can be used to start or end from the end of the list\n",
    "print(myList)  \n",
    "print(f\"all items = {myList[:-1]}\")\n",
    "print(f\"first two items = {myList[:2]}\")\n",
    "print(f\"second item to fourth item = {myList[1:4]}\")\n",
    "print(f\"first,third and fifth item = {myList[0:6:2]}\")\n",
    "\n",
    "#List length\n",
    "length = len(myList)\n",
    "print(f\"list length ={length}\")\n",
    "\n",
    "#List extend()\n",
    "secondList = [8, 9, 0, 4, 6]\n",
    "myList.extend(secondList)\n",
    "print(f\"Final List = {myList}\")\n",
    "\n",
    "# List comprehension\n",
    "  # List comprehension is a concise way to create lists based on existing lists.\n",
    "  # Syntax: [expression for item in list]\n",
    "  # Expression: the expression to be evaluated for each item in the list\n",
    "  # item: the variable representing each item in the list\n",
    "  # List comprehension can be used to create new lists with different conditions\n",
    "square_myList = [num for num in range(0, 10)]\n",
    "print(f\"Square of {myList} = {square_myList}\")"
   ]
  },
  {
   "cell_type": "markdown",
   "metadata": {},
   "source": [
    "# Tuples\n",
    "  - Tuples are ordered, immutable(unchangeable) collection of items.\n",
    "  - They are similar to lists, but cannot be modified after creation.\n",
    "  - created using parentheses().\n",
    "  - Examples: `my_tuple = (1, 2, 3, 4, 5)`\n",
    "  - faster compared to list.\n",
    "  - useful when dealing with unchangeable data or rather when the data needs no modification"
   ]
  },
  {
   "cell_type": "code",
   "execution_count": 2,
   "metadata": {},
   "outputs": [
    {
     "name": "stdout",
     "output_type": "stream",
     "text": [
      "my_tuple = (1, 2, 3, 4, 5) and secondTuple = (9, 10, 11, 12, 13)\n",
      "first element on firstTuple = 1 and last element on secondTuple = 13\n"
     ]
    }
   ],
   "source": [
    "# Tuples creation/declaration\n",
    "my_tuple = (1, 2, 3, 4, 5)\n",
    "secondTuple = tuple([9, 10, 11, 12, 13])\n",
    "print(f\"my_tuple = {my_tuple} and secondTuple = {secondTuple}\")\n",
    "  \n",
    "# Accessing tuple elements - we use index notation to access the tuple elements\n",
    "firstElement = my_tuple[0]\n",
    "firstElementOnsecond = secondTuple[-1]\n",
    "print(f\"first element on firstTuple = {firstElement} and last element on secondTuple = {firstElementOnsecond}\")"
   ]
  },
  {
   "cell_type": "markdown",
   "metadata": {},
   "source": [
    "## Sets\n",
    "  - Sets are unordered, mutable(changeable) collection of items.\n",
    "  - They do not allow duplicate values.\n",
    "  - created using curly braces {} or set() function.\n",
    "  - Examples: `my_set = {1, 2, 3, 4, 5}`\n",
    "  - Sets are useful when we need to store multiple items, but want to ensure uniqueness.\n",
    "\n",
    "## Set Operations\n",
    "- union\n",
    "- intersection\n",
    "- Difference\n",
    "- add\n",
    "- remove"
   ]
  },
  {
   "cell_type": "code",
   "execution_count": 3,
   "metadata": {},
   "outputs": [
    {
     "name": "stdout",
     "output_type": "stream",
     "text": [
      "set1 = {1, 2, 3, 4, 5} and set2 = {1, 4, 6, 7, 9}\n",
      "Union of set1 and set2 = {1, 2, 3, 4, 5, 6, 7, 9}\n",
      "Intersection of set1 and set2 = {1, 4}\n",
      "Difference of set1 and set2 = {2, 3, 5}\n",
      "After adding 6 to set1 = {1, 2, 3, 4, 5, 6}\n",
      "After removing 6 from set1 = {1, 2, 3, 4, 5}\n"
     ]
    }
   ],
   "source": [
    "# Set creation/declaration\n",
    "set1 = set([1, 2, 3, 4, 5])\n",
    "set2 = {4, 1, 6, 7, 9}\n",
    "print(f\"set1 = {set1} and set2 = {set2}\")\n",
    "\n",
    "# Union operation - returns a set that contains all items from both sets\n",
    "unionSet = set1.union(set2)\n",
    "print(f\"Union of set1 and set2 = {unionSet}\")\n",
    "\n",
    "# intersection operation - returns a set that contains all items from both sets\n",
    "intersectionSet = set1.intersection(set2)\n",
    "print(f\"Intersection of set1 and set2 = {intersectionSet}\")\n",
    "\n",
    "# Difference operation - returns a set that contains all items from the first set but not from the second set\n",
    "differenceSet = set1.difference(set2)\n",
    "print(f\"Difference of set1 and set2 = {differenceSet}\")\n",
    "\n",
    "# add item to set\n",
    "set1.add(6)\n",
    "print(f\"After adding 6 to set1 = {set1}\")\n",
    "\n",
    "# remove item from set\n",
    "set1.remove(6)\n",
    "print(f\"After removing 6 from set1 = {set1}\")"
   ]
  },
  {
   "cell_type": "markdown",
   "metadata": {},
   "source": [
    "# Dictionaries\n",
    "  - Dictionaries are unordered, mutable(changeable) collection of key-value pairs.\n",
    "  - created using curly braces {} or dict() function.\n",
    "  - Examples: `my_dict = {'name': 'John', 'age': 30}`\n",
    "  - Dictionaries are useful when we need to store multiple items, but want to access them by their unique keys.\n",
    "\n",
    "## Dictionary \n",
    "1. Dictionary creation/declaration\n",
    "2. Accessing dictionary elements - we use index notation to access the dictionary elements using their keys\n",
    "3. Updating dictionary elements - we can change the value of a dictionary element using its key\n",
    "4. Adding new elements to dictionary - we can add new key-value pairs to dictionary using their keys\n",
    "5. Deleting elements from dictionary - we can remove key-value pairs from dictionary using their keys"
   ]
  },
  {
   "cell_type": "code",
   "execution_count": 4,
   "metadata": {},
   "outputs": [
    {
     "name": "stdout",
     "output_type": "stream",
     "text": [
      "user1 = {'name': 'Denis', 'age': 25}\n",
      "user2 = {'name': 'Mwanzia', 'age': 20}\n",
      "Name of user1 = Denis\n",
      "Age of user2 = 20\n",
      "After updating user1's age\n",
      "user1 = {'name': 'Denis', 'age': 26}\n",
      "After adding city to user1\n",
      "user1 = {'name': 'Denis', 'age': 26, 'city': 'Nairobi'}\n",
      "After deleting city from user1\n",
      "user1 = {'name': 'Denis', 'age': 26}\n"
     ]
    }
   ],
   "source": [
    "# Dictionary creation/declaration\n",
    "user1 = {'name': 'Denis', 'age': 25}\n",
    "user2 = dict([(\"name\", 'Mwanzia'), ('age', 20)])\n",
    "print(f\"user1 = {user1}\")\n",
    "print(f\"user2 = {user2}\")\n",
    "\n",
    "# Accessing dictionary elements\n",
    "name1 = user1['name']\n",
    "age2 = user2['age']\n",
    "print(f\"Name of user1 = {name1}\")\n",
    "print(f\"Age of user2 = {age2}\")\n",
    "\n",
    "# Updating dictionary\n",
    "user1['age'] = 26\n",
    "print(f\"After updating user1's age\\nuser1 = {user1}\")\n",
    "\n",
    "# Adding new element to dictionary\n",
    "user1['city'] = 'Nairobi'\n",
    "print(f\"After adding city to user1\\nuser1 = {user1}\")\n",
    "\n",
    "# Deleting elements from dictionary\n",
    "del user1['city']\n",
    "print(f\"After deleting city from user1\\nuser1 = {user1}\")\n"
   ]
  }
 ],
 "metadata": {
  "kernelspec": {
   "display_name": "base",
   "language": "python",
   "name": "python3"
  },
  "language_info": {
   "codemirror_mode": {
    "name": "ipython",
    "version": 3
   },
   "file_extension": ".py",
   "mimetype": "text/x-python",
   "name": "python",
   "nbconvert_exporter": "python",
   "pygments_lexer": "ipython3",
   "version": "3.12.7"
  }
 },
 "nbformat": 4,
 "nbformat_minor": 2
}
