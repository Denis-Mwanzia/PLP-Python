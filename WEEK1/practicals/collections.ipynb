{
 "cells": [
  {
   "cell_type": "markdown",
   "metadata": {},
   "source": [
    "# Collections(List, Tuple, Dictionaries and Sets)\n",
    "## 1. List\n",
    "  - Lists are mutable, ordered collections of items.\n",
    "  - They can contain duplicates.\n",
    "  - Lists are created using square brackets [].\n",
    "  - Examples: `my_list = [1, 2, 3, 4, 5]`\n",
    "  - There are multiple operations which can be performed on lists. E.g list creation, list modification, list deletion, list slicing and list comparisons.\n",
    "### Examples:"
   ]
  },
  {
   "cell_type": "code",
   "execution_count": 37,
   "metadata": {},
   "outputs": [
    {
     "name": "stdout",
     "output_type": "stream",
     "text": [
      "myList = [1, 2, 3, 4, 5]\n",
      "First Element - 1\n",
      "Third Element - 3\n",
      "Last Element-  5\n",
      "Original list = [1, 2, 3, 4, 5]\n",
      "After adding 10 to index 1\n",
      "New list = [1, 10, 3, 4, 5]\n",
      "After appending 9\n",
      "Newest list = [1, 10, 3, 4, 5, 9]\n",
      "After removing 10\n",
      "Updated list = [1, 3, 4, 5, 9]\n",
      "[1, 3, 4, 5, 9]\n",
      "all items = [1, 3, 4, 5]\n",
      "first two items = [1, 3]\n",
      "second item to fourth item = [3, 4, 5]\n",
      "first,third and fifth item = [1, 4, 9]\n"
     ]
    }
   ],
   "source": [
    "# List creation\n",
    "myList = [1, 2, 3, 4, 5]\n",
    "print(f\"myList = {myList}\")\n",
    "\n",
    "\n",
    "# Accessing list elements - we use index notation to access the list elements\n",
    "firstElement = myList[0]\n",
    "lastElement = myList[-1]\n",
    "thirdElement = myList[2]\n",
    "print(f\"First Element - {firstElement}\\nThird Element - {thirdElement}\\nLast Element-  {lastElement}\")\n",
    "\n",
    "\n",
    "# List modification - we can change the value of a list element using index notation, append() and remove()\n",
    "# index notation - replace the available element in that index with new element\n",
    "print(f\"Original list = {myList}\")\n",
    "myList[1] = 10\n",
    "print(f\"After adding 10 to index 1\\nNew list = {myList}\")\n",
    "\n",
    "# append() method - adds elements to last index position of list\n",
    "myList.append(9)\n",
    "print(f\"After appending 9\\nNewest list = {myList}\")\n",
    "\n",
    "# remove() method - removes/deletes element from list\n",
    "myList.remove(10)\n",
    "print(f\"After removing 10\\nUpdated list = {myList}\")\n",
    "\n",
    "\n",
    "#List slicing\n",
    "  # Slicing is used to extract a portion of a list.\n",
    "  # Syntax: list[start:end:step]\n",
    "  # start: start index (inclusive)\n",
    "  # end: end index (exclusive)\n",
    "  # step: step size (default is 1)\n",
    "  # Negative indices can be used to start or end from the end of the list\n",
    "print(myList)  \n",
    "print(f\"all items = {myList[:-1]}\")\n",
    "print(f\"first two items = {myList[:2]}\")\n",
    "print(f\"second item to fourth item = {myList[1:4]}\")\n",
    "print(f\"first,third and fifth item = {myList[0:6:2]}\")"
   ]
  }
 ],
 "metadata": {
  "kernelspec": {
   "display_name": "base",
   "language": "python",
   "name": "python3"
  },
  "language_info": {
   "codemirror_mode": {
    "name": "ipython",
    "version": 3
   },
   "file_extension": ".py",
   "mimetype": "text/x-python",
   "name": "python",
   "nbconvert_exporter": "python",
   "pygments_lexer": "ipython3",
   "version": "3.12.7"
  }
 },
 "nbformat": 4,
 "nbformat_minor": 2
}
